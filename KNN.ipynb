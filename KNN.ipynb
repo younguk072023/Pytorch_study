{
  "nbformat": 4,
  "nbformat_minor": 0,
  "metadata": {
    "colab": {
      "private_outputs": true,
      "provenance": [],
      "authorship_tag": "ABX9TyMJQTT3ddGJRi+JHJKi9ikc",
      "include_colab_link": true
    },
    "kernelspec": {
      "name": "python3",
      "display_name": "Python 3"
    },
    "language_info": {
      "name": "python"
    }
  },
  "cells": [
    {
      "cell_type": "markdown",
      "metadata": {
        "id": "view-in-github",
        "colab_type": "text"
      },
      "source": [
        "<a href=\"https://colab.research.google.com/github/younguk072023/Pytorch_study/blob/main/KNN.ipynb\" target=\"_parent\"><img src=\"https://colab.research.google.com/assets/colab-badge.svg\" alt=\"Open In Colab\"/></a>"
      ]
    },
    {
      "cell_type": "code",
      "execution_count": null,
      "metadata": {
        "id": "Vv0ZfD4Mp59v"
      },
      "outputs": [],
      "source": [
        "import numpy as np\n",
        "import matplotlib.pyplot as plt\n",
        "\n",
        "from sklearn.neighbors import KNeighborsClassifier\n",
        "from sklearn import datasets\n"
      ]
    },
    {
      "cell_type": "code",
      "source": [
        "iris = datasets.load_iris()\n",
        "iris_X = iris.data[:,:2]\n",
        "y=iris.target\n",
        "\n",
        "iris_X = iris_X[y != 0]\n",
        "y = y[y != 0]"
      ],
      "metadata": {
        "id": "dVW31C_GbZey"
      },
      "execution_count": null,
      "outputs": []
    },
    {
      "cell_type": "code",
      "source": [
        "def make_meshgrid(x, y, h=0.05):\n",
        "  x_min, x_max = x.min() -1, x.max()+1\n",
        "  y_min, y_max = y.min() - 1, y.max() + 1\n",
        "  xx, yy = np.meshgrid(np.arange(x_min, x_max, h), np.arange(y_min, y_max, h))\n",
        "  return xx, yy\n",
        "\n",
        "def plot_contours(clf, xx, yy, **params):\n",
        "  Z = clf.predict(np.c_[xx.ravel(), yy.ravel()])\n",
        "  Z=Z.reshape(xx.shape)\n",
        "  out=plt.contourf(xx, yy, Z, **params)"
      ],
      "metadata": {
        "id": "ooMFfZTmbbCC"
      },
      "execution_count": null,
      "outputs": []
    },
    {
      "cell_type": "code",
      "source": [
        "x0, x1 = iris_X[:, 0], iris_X[:, 1]\n",
        "xx, yy = make_meshgrid(x0,x1)"
      ],
      "metadata": {
        "id": "1tV2dICveCQD"
      },
      "execution_count": null,
      "outputs": []
    },
    {
      "cell_type": "code",
      "source": [
        "for k in [3,5,7,15]:\n",
        "\n",
        "  model = KNeighborsClassifier(n_neighbors=k)\n",
        "  model.fit(iris_X, y)\n",
        "\n",
        "  plot_contours(model, xx, yy, cmap=plt.cm.coolwarm, alpha=0.8) #결정경계그림 색깔로 표시\n",
        "\n",
        "  plt.scatter(x0,x1,c=y,cmap=plt.cm.coolwarm, s=20, edgecolors='k')# 실제 데이터를 점으로 표시\n",
        "\n",
        "  plt.xlim(xx.min(),xx.max())\n",
        "  plt.ylim(yy.min(),yy.max())\n",
        "  plt.xlabel(\"Sepal length\")\n",
        "  plt.ylabel(\"Sepal width\")\n",
        "  plt.title(f\"knn (k={k})\")\n",
        "  plt.xticks(())\n",
        "  plt.yticks(())\n",
        "  plt.show()\n"
      ],
      "metadata": {
        "id": "zIRpftSWeJAq"
      },
      "execution_count": null,
      "outputs": []
    }
  ]
}