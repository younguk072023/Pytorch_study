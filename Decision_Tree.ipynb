{
  "nbformat": 4,
  "nbformat_minor": 0,
  "metadata": {
    "colab": {
      "private_outputs": true,
      "provenance": [],
      "authorship_tag": "ABX9TyNAyQhMOONrqWVti6p2D3lg",
      "include_colab_link": true
    },
    "kernelspec": {
      "name": "python3",
      "display_name": "Python 3"
    },
    "language_info": {
      "name": "python"
    }
  },
  "cells": [
    {
      "cell_type": "markdown",
      "metadata": {
        "id": "view-in-github",
        "colab_type": "text"
      },
      "source": [
        "<a href=\"https://colab.research.google.com/github/younguk072023/Pytorch_study/blob/main/Decision_Tree.ipynb\" target=\"_parent\"><img src=\"https://colab.research.google.com/assets/colab-badge.svg\" alt=\"Open In Colab\"/></a>"
      ]
    },
    {
      "cell_type": "code",
      "execution_count": null,
      "metadata": {
        "id": "QUxw0CvJmdFX"
      },
      "outputs": [],
      "source": [
        "#결정 트리\n",
        "#Overfitting 자주 발생 -> Pruning 가지치기 기술 사용\n",
        "\n",
        "import numpy as np\n",
        "import matplotlib.pyplot as plt\n",
        "\n",
        "from sklearn.tree import DecisionTreeClassifier\n",
        "from sklearn import datasets\n",
        "\n",
        "from sklearn import tree\n"
      ]
    },
    {
      "cell_type": "code",
      "source": [
        "#특징 4가지를 모두 사용하는 것은 Multiclass (3-class) classification task로 설\n",
        "iris = datasets.load_iris()\n",
        "x=iris.data\n",
        "y=iris.target"
      ],
      "metadata": {
        "id": "0qhJo5klnC3B"
      },
      "execution_count": null,
      "outputs": []
    },
    {
      "cell_type": "code",
      "source": [
        "model = DecisionTreeClassifier(max_depth=4)\n",
        "model.fit(x,y)"
      ],
      "metadata": {
        "id": "4CrJqBBUniA-"
      },
      "execution_count": null,
      "outputs": []
    },
    {
      "cell_type": "code",
      "source": [
        "plt. figure(figsize=(15,15))\n",
        "tree.plot_tree(model)\n",
        "plt.show()"
      ],
      "metadata": {
        "id": "gSVWL8FAnqzQ"
      },
      "execution_count": null,
      "outputs": []
    },
    {
      "cell_type": "code",
      "source": [],
      "metadata": {
        "id": "_qwA8A0Toi7P"
      },
      "execution_count": null,
      "outputs": []
    }
  ]
}